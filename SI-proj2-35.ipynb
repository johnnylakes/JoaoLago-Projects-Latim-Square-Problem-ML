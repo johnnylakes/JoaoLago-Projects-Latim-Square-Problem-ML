{
 "cells": [
  {
   "cell_type": "markdown",
   "metadata": {},
   "source": [
    "# Sistemas Inteligentes 2021/2022\n",
    "\n",
    "## Mini-projeto 2: Quadrados Latinos\n"
   ]
  },
  {
   "cell_type": "markdown",
   "metadata": {},
   "source": [
    "## Grupo: 35\n",
    "\n",
    "### Elementos do Grupo\n",
    "\n",
    "Número: 55164        Nome: João Lago     \n",
    "Número: 56947        Nome: Lara Marques    \n",
    "Número: 56919        Nome: Maria Elena Munteanu      "
   ]
  },
  {
   "cell_type": "markdown",
   "metadata": {},
   "source": [
    "## Representação de variáveis, domínios, vizinhos e restrições\n",
    "\n",
    "  - Variáveis - As variaveis estão representadas como uma lista de tuplos correspondentes as suas respectivas posições no quadrado latino e no quadro Futoshiki.\n",
    "\n",
    "\n",
    "  - Domínios - São todos os valores possiveis(coordenadas) que as variaveis podem assumir e estão definidos como todos os valores de 1 até o n-esimo valor definido como as dimensões da matriz.\n",
    "  \n",
    "\n",
    "  - Vizinhos - São todos os tuplos(coordenadas) adjacentes ao tuplo(coordenada) em que o algoritmo se encontra e está definido como um dicionario em que as chaves são tuplos (cada célula) e os valores são listas de tuplos que correspondem às coordenadas em volta da célula da chave. Utilizámos também a função formata_vizinhos() que recebe um dicionario com os vizinhos em forma de strings e devolve um dicionario com os vizinhos em forma de tuplos para melhor acesso aos dados.\n",
    "\n",
    "\n",
    "  - Restrições - As restrições correspondem aos parametros que devem ser seguidos para solucionar o problema em questão e estão defidos de duas formas diferentes:\n",
    " \n",
    " \n",
    "      - Para o quadro:\n",
    " \n",
    "        É definido como uma função que tem como argumentos um tuplo(X), seu respectivo valor(a), um tuplo(Y) e seu respectivo valor(b), os tuplos A e B correspondem a tuplos vizinhos, a partir de um operador condicional a função analisa se há uma igualdade nos valores dos dois tuplos. Se o valor devolvido for True significa que os vizinhos X e Y satisfazem as restrições e False se não satisfazem.\n",
    " \n",
    " \n",
    "      - Para o problema Futoshiki:\n",
    " \n",
    "        É definido como uma função restrições() que utiliza outras três funções definidas como maior(), menor(), diferentes(). Essas quatro funções tem como argumentos dois tuplos x e y e utilizam um operador condicional para avaliar as relações dos valores se são maiores, menores ou diferentes. A função restrições() leva como argumentos um tuplo(X), seu respectivo valor(a), um tuplo(Y) e seu respectivo valor(b). Se o valor devolvido for True significa que os vizinhos X e Y satisfazem as restrições e False se não satisfazem.\n",
    " "
   ]
  },
  {
   "cell_type": "markdown",
   "metadata": {},
   "source": [
    "## Formulação do problema"
   ]
  },
  {
   "cell_type": "code",
   "execution_count": 276,
   "metadata": {},
   "outputs": [],
   "source": [
    "from csp import *\n",
    "from math import sqrt\n",
    "import time\n",
    "from ast import literal_eval"
   ]
  },
  {
   "cell_type": "code",
   "execution_count": 277,
   "metadata": {},
   "outputs": [],
   "source": [
    "def formata_vizinhos(d):\n",
    "    \"\"\"Função auxiliar para melhor vizualização dos vizinhos\n",
    "\n",
    "    Args:\n",
    "        d (dict): Dicionario de Vizinhos em strings\n",
    "\n",
    "    Returns:\n",
    "        dict: Dicionario de Vizinhos em Tuplos\n",
    "    \"\"\"\n",
    "    new_d = {}\n",
    "    for x in d:\n",
    "        lista_vizinhos = []\n",
    "        for y in d[x]:\n",
    "            lista_vizinhos.append(literal_eval(y))\n",
    "        new_d[literal_eval(x)] = lista_vizinhos\n",
    "    return new_d"
   ]
  },
  {
   "cell_type": "code",
   "execution_count": 278,
   "metadata": {},
   "outputs": [],
   "source": [
    "def quadrado_latino(dim=4, dominios={}):\n",
    "    \"\"\"Pode receber parametros ou não, devolve um CSP com as variaveis, dominios, vizinhos e restricoes definidas.Cria:\n",
    "       uma lista de variáveis com tuplos com as coordenadas de cada celula, para as quais se quer encontrar uma afectaçao, \n",
    "       um dicionario com os dominios de cada celula antes de comecar a procura (valores possíveis das variáveis),\n",
    "       um dicionario com os vizinhos de cada celula,\n",
    "       as restricoes entre celulas (combinacoes possiveis de valores para subconjuntos de variaveis).\n",
    "\n",
    "\n",
    "    Args:\n",
    "        dim (int, optional): Dimensao do quadrado latino, Valor predefinido: 4\n",
    "        dominios (dict, optional): Dicionario com os dominios, predefinido como {}. Para preencher celula antes da resolução, deve indicar a posicao preenchida e o seu valor numa lista como: {(x,y):[valor]}\n",
    "\n",
    "    Returns:\n",
    "        CSP: CSP com os detalhes pedidos\n",
    "    \"\"\"\n",
    "    variaveis = [(x,y) for x in range(1, dim + 1) for y in range(1, dim + 1)] \n",
    "    dominio = [x for x in range(1, dim + 1)]\n",
    "    vizinho = ''\n",
    "    for x in range(len(variaveis)) :\n",
    "        a,b = variaveis[x]\n",
    "        if variaveis[x] not in dominios:\n",
    "            dominios[variaveis[x]] = dominio\n",
    "        if x != len(variaveis)-1:\n",
    "            vizinho +=  f'({a},{b}) : '\n",
    "            for i in range(a, dim+1):\n",
    "                for j in range(b, dim+1):\n",
    "                    if (j == b and i != a) or (j != b and i == a) and (i, j) != variaveis[x]:\n",
    "                        vizinho +=  f'({i},{j}) '\n",
    "            vizinho += ';'\n",
    "\n",
    "    vizinhos = formata_vizinhos(dict(parse_neighbors(str(vizinho[:-2]))))\n",
    "\n",
    "    def restricoes(X, a, Y, b) :\n",
    "        \"\"\"Verifica se os vizinhos satisfazem a restricao definida\n",
    "\n",
    "        Args:\n",
    "            X (tuple): Variavel 1\n",
    "            a (tuple): Valor possivel da variavel 1\n",
    "            Y (tuple): Variavel 2\n",
    "            b (tuple): Valor possivel da variavel 2\n",
    "\n",
    "        Returns:\n",
    "            bool: True se os vizinhos A e B satisfazem a restrição quando têm valores A=a e B=b, Caso contrario False\n",
    "        \"\"\"\n",
    "        if (X[0] == Y[0] and X[1] != Y[1]) or (X[0] != Y[0] and X[1] == Y[1]):\n",
    "            return a != b\n",
    "        return False\n",
    "\n",
    "    return CSP(variaveis, dominios, vizinhos, restricoes)\n"
   ]
  },
  {
   "cell_type": "markdown",
   "metadata": {},
   "source": [
    "## Criação do problema do quadrado latino simples\n",
    "\n",
    "Mostrem que o código está a funcionar, construindo um problema de quadrado latino *4x4*, imprimindo as variáveis, domínios iniciais, e vizinhos. Adicione os comentários necessários. Mostre como podemos criar um puzzle com quadrados já preenchidos, e qual o impacto que isso tem nas variáveis, domínios iniciais, e vizinhos."
   ]
  },
  {
   "cell_type": "code",
   "execution_count": 279,
   "metadata": {},
   "outputs": [
    {
     "name": "stdout",
     "output_type": "stream",
     "text": [
      "Variáveis =  [(1, 1), (1, 2), (1, 3), (1, 4), (2, 1), (2, 2), (2, 3), (2, 4), (3, 1), (3, 2), (3, 3), (3, 4), (4, 1), (4, 2), (4, 3), (4, 4)] \n",
      "\n",
      "Domínios =  {(1, 1): [1, 2, 3, 4], (1, 2): [1, 2, 3, 4], (1, 3): [1, 2, 3, 4], (1, 4): [1, 2, 3, 4], (2, 1): [1, 2, 3, 4], (2, 2): [1, 2, 3, 4], (2, 3): [1, 2, 3, 4], (2, 4): [1, 2, 3, 4], (3, 1): [1, 2, 3, 4], (3, 2): [1, 2, 3, 4], (3, 3): [1, 2, 3, 4], (3, 4): [1, 2, 3, 4], (4, 1): [1, 2, 3, 4], (4, 2): [1, 2, 3, 4], (4, 3): [1, 2, 3, 4], (4, 4): [1, 2, 3, 4]} \n",
      "\n",
      "Vizinhos =  {(1, 1): [(1, 2), (1, 3), (1, 4), (2, 1), (3, 1), (4, 1)], (1, 2): [(1, 1), (1, 3), (1, 4), (2, 2), (3, 2), (4, 2)], (1, 3): [(1, 1), (1, 2), (1, 4), (2, 3), (3, 3), (4, 3)], (1, 4): [(1, 1), (1, 2), (1, 3), (2, 4), (3, 4), (4, 4)], (2, 1): [(1, 1), (2, 2), (2, 3), (2, 4), (3, 1), (4, 1)], (3, 1): [(1, 1), (2, 1), (3, 2), (3, 3), (3, 4), (4, 1)], (4, 1): [(1, 1), (2, 1), (3, 1), (4, 2), (4, 3), (4, 4)], (2, 2): [(1, 2), (2, 1), (2, 3), (2, 4), (3, 2), (4, 2)], (3, 2): [(1, 2), (2, 2), (3, 1), (3, 3), (3, 4), (4, 2)], (4, 2): [(1, 2), (2, 2), (3, 2), (4, 1), (4, 3), (4, 4)], (2, 3): [(1, 3), (2, 1), (2, 2), (2, 4), (3, 3), (4, 3)], (3, 3): [(1, 3), (2, 3), (3, 1), (3, 2), (3, 4), (4, 3)], (4, 3): [(1, 3), (2, 3), (3, 3), (4, 1), (4, 2), (4, 4)], (2, 4): [(1, 4), (2, 1), (2, 2), (2, 3), (3, 4), (4, 4)], (3, 4): [(1, 4), (2, 4), (3, 1), (3, 2), (3, 3), (4, 4)], (4, 4): [(1, 4), (2, 4), (3, 4), (4, 1), (4, 2), (4, 3)]} \n",
      "\n"
     ]
    }
   ],
   "source": [
    "p1 = quadrado_latino()\n",
    "print(\"Variáveis = \", p1.variables,'\\n')\n",
    "print(\"Domínios = \", p1.domains,'\\n')\n",
    "print(\"Vizinhos = \", p1.neighbors,'\\n')"
   ]
  },
  {
   "cell_type": "markdown",
   "metadata": {},
   "source": [
    "Ao criar um puzzle com quadrados já preenchidos, apesar das variáveis e dos vizinhos se manterem iguais a um puzzle da mesma dimensão mas não preenchido inicialmente, os domínios iniciais ficarão limitados ao valor(es) dados"
   ]
  },
  {
   "cell_type": "code",
   "execution_count": 280,
   "metadata": {},
   "outputs": [
    {
     "name": "stdout",
     "output_type": "stream",
     "text": [
      "Variáveis =  [(1, 1), (1, 2), (1, 3), (1, 4), (2, 1), (2, 2), (2, 3), (2, 4), (3, 1), (3, 2), (3, 3), (3, 4), (4, 1), (4, 2), (4, 3), (4, 4)] \n",
      "\n",
      "Domínios =  {(1, 2): [2], (1, 1): [1, 2, 3, 4], (1, 3): [1, 2, 3, 4], (1, 4): [1, 2, 3, 4], (2, 1): [1, 2, 3, 4], (2, 2): [1, 2, 3, 4], (2, 3): [1, 2, 3, 4], (2, 4): [1, 2, 3, 4], (3, 1): [1, 2, 3, 4], (3, 2): [1, 2, 3, 4], (3, 3): [1, 2, 3, 4], (3, 4): [1, 2, 3, 4], (4, 1): [1, 2, 3, 4], (4, 2): [1, 2, 3, 4], (4, 3): [1, 2, 3, 4], (4, 4): [1, 2, 3, 4]} \n",
      "\n",
      "Vizinhos =  {(1, 1): [(1, 2), (1, 3), (1, 4), (2, 1), (3, 1), (4, 1)], (1, 2): [(1, 1), (1, 3), (1, 4), (2, 2), (3, 2), (4, 2)], (1, 3): [(1, 1), (1, 2), (1, 4), (2, 3), (3, 3), (4, 3)], (1, 4): [(1, 1), (1, 2), (1, 3), (2, 4), (3, 4), (4, 4)], (2, 1): [(1, 1), (2, 2), (2, 3), (2, 4), (3, 1), (4, 1)], (3, 1): [(1, 1), (2, 1), (3, 2), (3, 3), (3, 4), (4, 1)], (4, 1): [(1, 1), (2, 1), (3, 1), (4, 2), (4, 3), (4, 4)], (2, 2): [(1, 2), (2, 1), (2, 3), (2, 4), (3, 2), (4, 2)], (3, 2): [(1, 2), (2, 2), (3, 1), (3, 3), (3, 4), (4, 2)], (4, 2): [(1, 2), (2, 2), (3, 2), (4, 1), (4, 3), (4, 4)], (2, 3): [(1, 3), (2, 1), (2, 2), (2, 4), (3, 3), (4, 3)], (3, 3): [(1, 3), (2, 3), (3, 1), (3, 2), (3, 4), (4, 3)], (4, 3): [(1, 3), (2, 3), (3, 3), (4, 1), (4, 2), (4, 4)], (2, 4): [(1, 4), (2, 1), (2, 2), (2, 3), (3, 4), (4, 4)], (3, 4): [(1, 4), (2, 4), (3, 1), (3, 2), (3, 3), (4, 4)], (4, 4): [(1, 4), (2, 4), (3, 4), (4, 1), (4, 2), (4, 3)]} \n",
      "\n"
     ]
    }
   ],
   "source": [
    "p2 = quadrado_latino(dominios={(1,2):[2]})\n",
    "print(\"Variáveis = \", p2.variables,'\\n')\n",
    "print(\"Domínios = \", p2.domains,'\\n')\n",
    "print(\"Vizinhos = \", p2.neighbors,'\\n')"
   ]
  },
  {
   "cell_type": "markdown",
   "metadata": {},
   "source": [
    "Resolva o problema com o backtracking sem inferencia, com inferencia, e com uma heurística.\n",
    "\n",
    "Decidimos resolver o mesmo problema com o backtracking sem inferencia, com inferencia, com uma heurística e com inferência e uma heurística para observar as diferenças nas soluções. \n",
    "Incluimos também uns testes de problemas com o algoritmo AC3, para a restrição que temos, testar puzzles não preenchidos com o algoritmo AC3 acaba por não mudar os domínios, havendo valores para todos os vizinhos serem diferentes, assim testámos puzzles preenchidos também."
   ]
  },
  {
   "cell_type": "markdown",
   "metadata": {},
   "source": [
    "### Backtracking sem Inferencia"
   ]
  },
  {
   "cell_type": "code",
   "execution_count": 281,
   "metadata": {},
   "outputs": [
    {
     "name": "stdout",
     "output_type": "stream",
     "text": [
      "Assignment p =  {(1, 1): 1, (1, 2): 2, (1, 3): 3, (1, 4): 4, (2, 1): 2, (2, 2): 1, (2, 3): 4, (2, 4): 3, (3, 1): 3, (3, 2): 4, (3, 3): 1, (3, 4): 2, (4, 1): 4, (4, 2): 3, (4, 3): 2, (4, 4): 1} \n",
      "\n",
      "----------------------------------------------------------------------------------------------------\n",
      "Domínios após AC3 =  {(1, 1): [1, 2, 3, 4], (1, 2): [1, 2, 3, 4], (1, 3): [1, 2, 3, 4], (1, 4): [1, 2, 3, 4], (2, 1): [1, 2, 3, 4], (2, 2): [1, 2, 3, 4], (2, 3): [1, 2, 3, 4], (2, 4): [1, 2, 3, 4], (3, 1): [1, 2, 3, 4], (3, 2): [1, 2, 3, 4], (3, 3): [1, 2, 3, 4], (3, 4): [1, 2, 3, 4], (4, 1): [1, 2, 3, 4], (4, 2): [1, 2, 3, 4], (4, 3): [1, 2, 3, 4], (4, 4): [1, 2, 3, 4]} \n",
      "\n",
      "Assignment =  {(1, 1): 1, (1, 2): 2, (1, 3): 3, (1, 4): 4, (2, 1): 2, (2, 2): 1, (2, 3): 4, (2, 4): 3, (3, 1): 3, (3, 2): 4, (3, 3): 1, (3, 4): 2, (4, 1): 4, (4, 2): 3, (4, 3): 2, (4, 4): 1} \n",
      "\n",
      "----------------------------------------------------------------------------------------------------\n",
      "Domínios após AC3 =  {(1, 1): [2], (1, 2): [1, 3, 4], (1, 3): [1, 4], (1, 4): [1, 3, 4], (2, 1): [1, 3, 4], (2, 2): [1, 2, 3, 4], (2, 3): [1, 2, 4], (2, 4): [1, 2, 3, 4], (3, 1): [1, 4], (3, 2): [1, 2, 4], (3, 3): [3], (3, 4): [1, 2, 4], (4, 1): [1, 3, 4], (4, 2): [1, 2, 3, 4], (4, 3): [1, 2, 4], (4, 4): [1, 2, 3, 4]} \n",
      "\n",
      "Assignment =  {(1, 1): 2, (1, 2): 1, (1, 3): 4, (1, 4): 3, (2, 1): 1, (2, 2): 3, (2, 3): 2, (2, 4): 4, (3, 1): 4, (3, 2): 2, (3, 3): 3, (3, 4): 1, (4, 1): 3, (4, 2): 4, (4, 3): 1, (4, 4): 2}\n"
     ]
    }
   ],
   "source": [
    "p3 = quadrado_latino()\n",
    "r3 = backtracking_search(p3)\n",
    "print('Assignment p = ',r3,'\\n') \n",
    "print('-'*100)\n",
    "\n",
    "#AC3 puzzle não preenchido \n",
    "p31 = quadrado_latino()\n",
    "p31_ac3 = AC3(p31)\n",
    "print(\"Domínios após AC3 = \", p31_ac3.curr_domains,'\\n')\n",
    "r31 = backtracking_search(p31_ac3)\n",
    "print('Assignment = ',r31,'\\n') \n",
    "print('-'*100)\n",
    "\n",
    "#AC3 puzzle preenchido \n",
    "p32 = quadrado_latino(dominios={(1,1):[2],(3,3):[3]})\n",
    "p32_ac3 = AC3(p32)\n",
    "print(\"Domínios após AC3 = \", p32_ac3.curr_domains,'\\n')\n",
    "r32 = backtracking_search(p32_ac3)\n",
    "print('Assignment = ',r32) "
   ]
  },
  {
   "cell_type": "markdown",
   "metadata": {},
   "source": [
    "### Backtracking com Inferencia\n",
    "Forward Checking"
   ]
  },
  {
   "cell_type": "code",
   "execution_count": 282,
   "metadata": {},
   "outputs": [
    {
     "name": "stdout",
     "output_type": "stream",
     "text": [
      "Assignment p =  {(1, 1): 1, (1, 2): 2, (1, 3): 3, (1, 4): 4, (2, 1): 2, (2, 2): 1, (2, 3): 4, (2, 4): 3, (3, 1): 3, (3, 2): 4, (3, 3): 1, (3, 4): 2, (4, 1): 4, (4, 2): 3, (4, 3): 2, (4, 4): 1}\n"
     ]
    }
   ],
   "source": [
    "p4 = quadrado_latino()\n",
    "r4 = backtracking_search(p4,inference = forward_checking)\n",
    "print('Assignment p = ',r4) "
   ]
  },
  {
   "cell_type": "markdown",
   "metadata": {},
   "source": [
    "MAC"
   ]
  },
  {
   "cell_type": "code",
   "execution_count": 283,
   "metadata": {},
   "outputs": [
    {
     "name": "stdout",
     "output_type": "stream",
     "text": [
      "Assignment p =  {(1, 1): 1, (1, 2): 2, (1, 3): 3, (1, 4): 4, (2, 1): 2, (2, 2): 1, (2, 3): 4, (2, 4): 3, (3, 1): 3, (3, 2): 4, (3, 3): 1, (3, 4): 2, (4, 1): 4, (4, 2): 3, (4, 3): 2, (4, 4): 1}\n"
     ]
    }
   ],
   "source": [
    "p5 = quadrado_latino()\n",
    "r5 = backtracking_search(p5,inference = mac)\n",
    "print('Assignment p = ',r5) "
   ]
  },
  {
   "cell_type": "markdown",
   "metadata": {},
   "source": [
    "### Backtracking com Heurística MRV"
   ]
  },
  {
   "cell_type": "code",
   "execution_count": 284,
   "metadata": {},
   "outputs": [
    {
     "name": "stdout",
     "output_type": "stream",
     "text": [
      "Assignment p =  {(2, 4): 1, (4, 2): 1, (4, 1): 2, (3, 2): 2, (2, 2): 3, (2, 1): 4, (3, 4): 3, (1, 4): 2, (3, 3): 4, (1, 3): 1, (1, 1): 3, (4, 4): 4, (3, 1): 1, (1, 2): 4, (2, 3): 2, (4, 3): 3}\n"
     ]
    }
   ],
   "source": [
    "p6 = quadrado_latino()\n",
    "r6 = backtracking_search(p6,select_unassigned_variable = mrv)\n",
    "print('Assignment p = ',r6) "
   ]
  },
  {
   "cell_type": "markdown",
   "metadata": {},
   "source": [
    "### Backtracking com Inferência e Heurística MRV\n",
    "Forward Checking"
   ]
  },
  {
   "cell_type": "code",
   "execution_count": 285,
   "metadata": {},
   "outputs": [
    {
     "name": "stdout",
     "output_type": "stream",
     "text": [
      "Assignment p =  {(3, 3): 1, (3, 2): 2, (3, 1): 3, (3, 4): 4, (2, 1): 1, (2, 4): 2, (2, 2): 3, (2, 3): 4, (1, 4): 1, (1, 2): 4, (4, 2): 1, (4, 4): 3, (4, 3): 2, (4, 1): 4, (1, 3): 3, (1, 1): 2}\n",
      "----------------------------------------------------------------------------------------------------\n",
      "Domínios após AC3 =  {(1, 1): [1, 2, 3, 4], (1, 2): [1, 2, 3, 4], (1, 3): [1, 2, 3, 4], (1, 4): [1, 2, 3, 4], (2, 1): [1, 2, 3, 4], (2, 2): [1, 2, 3, 4], (2, 3): [1, 2, 3, 4], (2, 4): [1, 2, 3, 4], (3, 1): [1, 2, 3, 4], (3, 2): [1, 2, 3, 4], (3, 3): [1, 2, 3, 4], (3, 4): [1, 2, 3, 4], (4, 1): [1, 2, 3, 4], (4, 2): [1, 2, 3, 4], (4, 3): [1, 2, 3, 4], (4, 4): [1, 2, 3, 4]} \n",
      "\n",
      "Assignment =  {(2, 3): 1, (2, 4): 2, (2, 2): 3, (2, 1): 4, (1, 1): 1, (4, 1): 2, (3, 1): 3, (1, 2): 2, (3, 2): 1, (3, 4): 4, (4, 2): 4, (3, 3): 2, (1, 4): 3, (1, 3): 4, (4, 3): 3, (4, 4): 1} \n",
      "\n",
      "----------------------------------------------------------------------------------------------------\n",
      "Domínios após AC3 =  {(1, 1): [1, 3, 4], (1, 2): [1, 4], (1, 3): [2], (1, 4): [1, 3, 4], (2, 1): [1, 2, 4], (2, 2): [3], (2, 3): [1, 4], (2, 4): [1, 2, 4], (3, 1): [1, 2, 3, 4], (3, 2): [1, 2, 4], (3, 3): [1, 3, 4], (3, 4): [1, 2, 3, 4], (4, 1): [1, 2, 3, 4], (4, 2): [1, 2, 4], (4, 3): [1, 3, 4], (4, 4): [1, 2, 3, 4]} \n",
      "\n",
      "Assignment =  {(2, 2): 3, (1, 3): 2, (2, 3): 1, (2, 1): 2, (2, 4): 4, (4, 3): 3, (3, 3): 4, (3, 1): 1, (4, 1): 4, (3, 2): 2, (4, 2): 1, (4, 4): 2, (1, 1): 3, (1, 4): 1, (3, 4): 3, (1, 2): 4}\n"
     ]
    }
   ],
   "source": [
    "p7 = quadrado_latino()\n",
    "r7 = backtracking_search(p7,select_unassigned_variable = mrv,inference = forward_checking)\n",
    "print('Assignment p = ',r7) \n",
    "print('-'*100)\n",
    "\n",
    "#AC3 puzzle não preenchido \n",
    "p71 = quadrado_latino()\n",
    "p71_ac3 = AC3(p71)\n",
    "print(\"Domínios após AC3 = \", p71_ac3.curr_domains,'\\n')\n",
    "r71 = backtracking_search(p71_ac3,select_unassigned_variable = mrv,inference = forward_checking)\n",
    "print('Assignment = ',r71,'\\n') \n",
    "print('-'*100)\n",
    "\n",
    "#AC3 puzzle preenchido \n",
    "p72 = quadrado_latino(dominios={(1,3):[2],(2,2):[3]})\n",
    "p72_ac3 = AC3(p72)\n",
    "print(\"Domínios após AC3 = \", p72_ac3.curr_domains,'\\n')\n",
    "r72 = backtracking_search(p72_ac3,select_unassigned_variable = mrv,inference = forward_checking)\n",
    "print('Assignment = ',r72) "
   ]
  },
  {
   "cell_type": "markdown",
   "metadata": {},
   "source": [
    "MAC"
   ]
  },
  {
   "cell_type": "code",
   "execution_count": 286,
   "metadata": {},
   "outputs": [
    {
     "name": "stdout",
     "output_type": "stream",
     "text": [
      "Assignment p =  {(1, 2): 1, (4, 2): 2, (2, 2): 3, (3, 2): 4, (1, 3): 2, (1, 1): 3, (1, 4): 4, (3, 1): 1, (4, 4): 3, (2, 3): 4, (4, 1): 4, (4, 3): 1, (2, 4): 1, (2, 1): 2, (3, 3): 3, (3, 4): 2}\n"
     ]
    }
   ],
   "source": [
    "p8 = quadrado_latino()\n",
    "r8 = backtracking_search(p8,select_unassigned_variable = mrv,inference = mac)\n",
    "print('Assignment p = ',r8) "
   ]
  },
  {
   "cell_type": "markdown",
   "metadata": {},
   "source": [
    "## Visualização do problema"
   ]
  },
  {
   "cell_type": "code",
   "execution_count": 287,
   "metadata": {},
   "outputs": [],
   "source": [
    "def quad_vizualiza_aux(dominio,dim):\n",
    "    \"\"\"Funcao auxiliar para vizualização do quadrado latino\n",
    "\n",
    "    Args:\n",
    "        dominio (dict): Dicionario com o dominio que se quer representar\n",
    "        dim (float): dimensao do quadrado latino\n",
    "    \"\"\"\n",
    "    num = 1\n",
    "    for x in dominio:\n",
    "        print(dominio[x], end='    ') \n",
    "        num += 1\n",
    "        if num > dim:\n",
    "            print('\\n')\n",
    "            num =1"
   ]
  },
  {
   "cell_type": "code",
   "execution_count": 288,
   "metadata": {},
   "outputs": [],
   "source": [
    "def visualiza_quadrado(p):\n",
    "    \"\"\"Vizualizacao do quadrado latino antes e depois de resolvido (se tiver sido resolvido)\n",
    "\n",
    "    Args:\n",
    "        p (CSP): CSP do quadrado latino\n",
    "    \"\"\"\n",
    "    dim = sqrt(len(p.domains))\n",
    "    print('Antes de Resolver')\n",
    "    quad_vizualiza_aux(p.domains,dim)\n",
    "\n",
    "    print('-' * 40)\n",
    "    \n",
    "    if p.curr_domains:\n",
    "        print('\\nDepois de Resolver')\n",
    "        quad_vizualiza_aux(p.curr_domains,dim)\n"
   ]
  },
  {
   "cell_type": "code",
   "execution_count": 289,
   "metadata": {},
   "outputs": [
    {
     "name": "stdout",
     "output_type": "stream",
     "text": [
      "Problema p3\n",
      "Antes de Resolver\n",
      "[1, 2, 3, 4]    [1, 2, 3, 4]    [1, 2, 3, 4]    [1, 2, 3, 4]    \n",
      "\n",
      "[1, 2, 3, 4]    [1, 2, 3, 4]    [1, 2, 3, 4]    [1, 2, 3, 4]    \n",
      "\n",
      "[1, 2, 3, 4]    [1, 2, 3, 4]    [1, 2, 3, 4]    [1, 2, 3, 4]    \n",
      "\n",
      "[1, 2, 3, 4]    [1, 2, 3, 4]    [1, 2, 3, 4]    [1, 2, 3, 4]    \n",
      "\n",
      "----------------------------------------\n",
      "\n",
      "Depois de Resolver\n",
      "[1]    [2]    [3]    [4]    \n",
      "\n",
      "[2]    [1]    [4]    [3]    \n",
      "\n",
      "[3]    [4]    [1]    [2]    \n",
      "\n",
      "[4]    [3]    [2]    [1]    \n",
      "\n"
     ]
    }
   ],
   "source": [
    "print('Problema p3')\n",
    "visualiza_quadrado(p3)"
   ]
  },
  {
   "cell_type": "code",
   "execution_count": 290,
   "metadata": {},
   "outputs": [
    {
     "name": "stdout",
     "output_type": "stream",
     "text": [
      "Problema p32\n",
      "Antes de Resolver\n",
      "[2]    [3]    [1, 2, 3, 4]    [1, 2, 3, 4]    \n",
      "\n",
      "[1, 2, 3, 4]    [1, 2, 3, 4]    [1, 2, 3, 4]    [1, 2, 3, 4]    \n",
      "\n",
      "[1, 2, 3, 4]    [1, 2, 3, 4]    [1, 2, 3, 4]    [1, 2, 3, 4]    \n",
      "\n",
      "[1, 2, 3, 4]    [1, 2, 3, 4]    [1, 2, 3, 4]    [1, 2, 3, 4]    \n",
      "\n",
      "----------------------------------------\n",
      "\n",
      "Depois de Resolver\n",
      "[2]    [1]    [4]    [3]    \n",
      "\n",
      "[1]    [3]    [2]    [4]    \n",
      "\n",
      "[4]    [2]    [3]    [1]    \n",
      "\n",
      "[3]    [4]    [1]    [2]    \n",
      "\n"
     ]
    }
   ],
   "source": [
    "print('Problema p32')\n",
    "visualiza_quadrado(p32)"
   ]
  },
  {
   "cell_type": "code",
   "execution_count": 291,
   "metadata": {},
   "outputs": [
    {
     "name": "stdout",
     "output_type": "stream",
     "text": [
      "Problema p6\n",
      "Antes de Resolver\n",
      "[1, 2, 3, 4]    [1, 2, 3, 4]    [1, 2, 3, 4]    [1, 2, 3, 4]    \n",
      "\n",
      "[1, 2, 3, 4]    [1, 2, 3, 4]    [1, 2, 3, 4]    [1, 2, 3, 4]    \n",
      "\n",
      "[1, 2, 3, 4]    [1, 2, 3, 4]    [1, 2, 3, 4]    [1, 2, 3, 4]    \n",
      "\n",
      "[1, 2, 3, 4]    [1, 2, 3, 4]    [1, 2, 3, 4]    [1, 2, 3, 4]    \n",
      "\n",
      "----------------------------------------\n",
      "\n",
      "Depois de Resolver\n",
      "[3]    [4]    [1]    [2]    \n",
      "\n",
      "[4]    [3]    [2]    [1]    \n",
      "\n",
      "[1]    [2]    [4]    [3]    \n",
      "\n",
      "[2]    [1]    [3]    [4]    \n",
      "\n"
     ]
    }
   ],
   "source": [
    "print('Problema p6')\n",
    "visualiza_quadrado(p6)"
   ]
  },
  {
   "cell_type": "code",
   "execution_count": 292,
   "metadata": {},
   "outputs": [
    {
     "name": "stdout",
     "output_type": "stream",
     "text": [
      "Problema p71\n",
      "Antes de Resolver\n",
      "[1, 2, 3, 4]    [1, 2, 3, 4]    [1, 2, 3, 4]    [1, 2, 3, 4]    \n",
      "\n",
      "[1, 2, 3, 4]    [1, 2, 3, 4]    [1, 2, 3, 4]    [1, 2, 3, 4]    \n",
      "\n",
      "[1, 2, 3, 4]    [1, 2, 3, 4]    [1, 2, 3, 4]    [1, 2, 3, 4]    \n",
      "\n",
      "[1, 2, 3, 4]    [1, 2, 3, 4]    [1, 2, 3, 4]    [1, 2, 3, 4]    \n",
      "\n",
      "----------------------------------------\n",
      "\n",
      "Depois de Resolver\n",
      "[1]    [2]    [4]    [3]    \n",
      "\n",
      "[4]    [3]    [1]    [2]    \n",
      "\n",
      "[3]    [1]    [2]    [4]    \n",
      "\n",
      "[2]    [4]    [3]    [1]    \n",
      "\n"
     ]
    }
   ],
   "source": [
    "print('Problema p71')\n",
    "visualiza_quadrado(p71)"
   ]
  },
  {
   "cell_type": "code",
   "execution_count": 293,
   "metadata": {},
   "outputs": [
    {
     "name": "stdout",
     "output_type": "stream",
     "text": [
      "Problema p72\n",
      "Antes de Resolver\n",
      "[2]    [3]    [1, 2, 3, 4]    [1, 2, 3, 4]    \n",
      "\n",
      "[1, 2, 3, 4]    [1, 2, 3, 4]    [1, 2, 3, 4]    [1, 2, 3, 4]    \n",
      "\n",
      "[1, 2, 3, 4]    [1, 2, 3, 4]    [1, 2, 3, 4]    [1, 2, 3, 4]    \n",
      "\n",
      "[1, 2, 3, 4]    [1, 2, 3, 4]    [1, 2, 3, 4]    [1, 2, 3, 4]    \n",
      "\n",
      "----------------------------------------\n",
      "\n",
      "Depois de Resolver\n",
      "[3]    [4]    [2]    [1]    \n",
      "\n",
      "[2]    [3]    [1]    [4]    \n",
      "\n",
      "[1]    [2]    [4]    [3]    \n",
      "\n",
      "[4]    [1]    [3]    [2]    \n",
      "\n"
     ]
    }
   ],
   "source": [
    "print('Problema p72')\n",
    "visualiza_quadrado(p72)"
   ]
  },
  {
   "cell_type": "code",
   "execution_count": 294,
   "metadata": {},
   "outputs": [
    {
     "name": "stdout",
     "output_type": "stream",
     "text": [
      "Problema p8\n",
      "Antes de Resolver\n",
      "[1, 2, 3, 4]    [1, 2, 3, 4]    [1, 2, 3, 4]    [1, 2, 3, 4]    \n",
      "\n",
      "[1, 2, 3, 4]    [1, 2, 3, 4]    [1, 2, 3, 4]    [1, 2, 3, 4]    \n",
      "\n",
      "[1, 2, 3, 4]    [1, 2, 3, 4]    [1, 2, 3, 4]    [1, 2, 3, 4]    \n",
      "\n",
      "[1, 2, 3, 4]    [1, 2, 3, 4]    [1, 2, 3, 4]    [1, 2, 3, 4]    \n",
      "\n",
      "----------------------------------------\n",
      "\n",
      "Depois de Resolver\n",
      "[3]    [1]    [2]    [4]    \n",
      "\n",
      "[2]    [3]    [4]    [1]    \n",
      "\n",
      "[1]    [4]    [3]    [2]    \n",
      "\n",
      "[4]    [2]    [1]    [3]    \n",
      "\n"
     ]
    }
   ],
   "source": [
    "print('Problema p8')\n",
    "visualiza_quadrado(p8)"
   ]
  },
  {
   "cell_type": "markdown",
   "metadata": {},
   "source": [
    "Como foram utilizadas diferentes formas de resolver os problemas as soluções são diferentes, mas podemos ver que estão corretas."
   ]
  },
  {
   "cell_type": "markdown",
   "metadata": {},
   "source": [
    "## Criação do problema Futoshiki *5x5*\n",
    "\n",
    "Mostrem que o código está a funcionar, construindo um problema de Futoshiki *5x5*, imprimindo as variáveis, domínios iniciais, e vizinhos. Adicione os comentários necessários. Utilize o [link](https://www.futoshiki.org/) para gerar puzzles e validar a implementação."
   ]
  },
  {
   "cell_type": "code",
   "execution_count": 295,
   "metadata": {},
   "outputs": [],
   "source": [
    "# código de aplicação dos algoritmos\n",
    "def menor(x,y):\n",
    "    \"\"\"x é menor que y\"\"\"\n",
    "    return x < y\n",
    "        \n",
    "def maior(x,y):\n",
    "    \"\"\"x é maior que y\"\"\"\n",
    "    return x > y\n",
    "        \n",
    "def diferentes(x,y):\n",
    "    \"\"\"x diferente de y\"\"\"\n",
    "    return x != y\n",
    "\n",
    "def futoshiki(dim=5):\n",
    "    \"\"\"Pode receber parametros ou não, devolve um CSP com as variaveis, dominios, vizinhos e restricoes definidas.Cria:\n",
    "       uma lista de variáveis com tuplos com as coordenadas de cada celula, para as quais se quer encontrar uma afectaçao, \n",
    "       um dicionario com os dominios de cada celula antes de comecar a procura (valores possíveis das variáveis),\n",
    "       um dicionario com os vizinhos de cada celula,\n",
    "       as restricoes entre celulas (combinacoes possiveis de valores para subconjuntos de variaveis).\n",
    "\n",
    "\n",
    "    Args:\n",
    "        dim (int, optional): Dimensao do puzzle Futoshiki, Valor predefinido: 5\n",
    "        dominios (dict, optional): Dicionario com os dominios, predefinido como {}. Para preencher celula antes da resolução\n",
    "                                   deve indicar a posicao preenchida e o seu valor numa lista como: {(x,y):[valor]}\n",
    "\n",
    "    Returns:\n",
    "        CSP: CSP com os detalhes pedidos\n",
    "    \"\"\"\n",
    "    variaveis = [(x,y) for x in range(1, dim + 1) for y in range(1, dim + 1)] \n",
    "    dominio = [x for x in range(1, dim + 1)]\n",
    "    dominios = {}\n",
    "    vizinho = ''\n",
    "    for x in range(len(variaveis)) :\n",
    "        a,b = variaveis[x]\n",
    "        # if variaveis[x] not in dominios:\n",
    "        dominios[variaveis[x]] = dominio\n",
    "        if x != len(variaveis)-1:\n",
    "            vizinho +=  f'({a},{b}) : '\n",
    "            for i in range(a, dim+1):\n",
    "                for j in range(b, dim+1):\n",
    "                    if (j == b and i != a) or (j != b and i == a) and (i, j) != variaveis[x]:\n",
    "                        vizinho +=  f'({i},{j}) '\n",
    "            vizinho += ';'\n",
    "\n",
    "    vizinhos = formata_vizinhos(dict(parse_neighbors(str(vizinho[:-2]))))\n",
    "\n",
    "    def restricoes(X, a, Y, b) :\n",
    "        \"\"\"Verifica se os vizinhos satisfazem as restricoes definidas\n",
    "\n",
    "        Args:\n",
    "            X (tuple): Variavel 1\n",
    "            a (tuple): Valor possivel da variavel 1\n",
    "            Y (tuple): Variavel 2\n",
    "            b (tuple): Valor possivel da variavel 2\n",
    "\n",
    "        Returns:\n",
    "            bool: True se os vizinhos A e B satisfazem as restricoes quando têm valores A=a e B=b, Caso contrario False\n",
    "        \"\"\"\n",
    "        if (X[0] == Y[0] and X[1] != Y[1]) or (X[0] != Y[0] and X[1] == Y[1]):\n",
    "            restricoes = { ((1,1),(1,2)) : maior, ((1,2),(1,1)) : menor,\n",
    "                        ((1,2),(1,3)) : maior, ((1,3),(1,2)) : menor,\n",
    "                        ((2,2),(3,2)) : maior, ((3,2),(2,2)) : menor,\n",
    "                        ((2,5),(3,5)) : maior, ((3,5),(2,5)) : menor,\n",
    "                        ((3,1),(3,2)) : menor, ((3,2),(3,1)) : maior,\n",
    "                        ((3,4),(3,5)) : menor, ((3,5),(3,4)) : maior,\n",
    "                        ((3,4),(4,4)) : maior, ((4,4),(3,4)) : menor, \n",
    "                        ((5,2),(5,3)) : maior, ((5,3),(5,2)) : menor}\n",
    "            \n",
    "            if (X,Y) in restricoes :\n",
    "                return restricoes[(X,Y)](a,b)\n",
    "            else:\n",
    "                return diferentes(a,b)\n",
    "        return False\n",
    "\n",
    "    return CSP(variaveis, dominios, vizinhos, restricoes)"
   ]
  },
  {
   "cell_type": "code",
   "execution_count": 296,
   "metadata": {},
   "outputs": [
    {
     "name": "stdout",
     "output_type": "stream",
     "text": [
      "Variáveis =  [(1, 1), (1, 2), (1, 3), (1, 4), (1, 5), (2, 1), (2, 2), (2, 3), (2, 4), (2, 5), (3, 1), (3, 2), (3, 3), (3, 4), (3, 5), (4, 1), (4, 2), (4, 3), (4, 4), (4, 5), (5, 1), (5, 2), (5, 3), (5, 4), (5, 5)] \n",
      "\n",
      "Domínios =  {(1, 1): [1, 2, 3, 4, 5], (1, 2): [1, 2, 3, 4, 5], (1, 3): [1, 2, 3, 4, 5], (1, 4): [1, 2, 3, 4, 5], (1, 5): [1, 2, 3, 4, 5], (2, 1): [1, 2, 3, 4, 5], (2, 2): [1, 2, 3, 4, 5], (2, 3): [1, 2, 3, 4, 5], (2, 4): [1, 2, 3, 4, 5], (2, 5): [1, 2, 3, 4, 5], (3, 1): [1, 2, 3, 4, 5], (3, 2): [1, 2, 3, 4, 5], (3, 3): [1, 2, 3, 4, 5], (3, 4): [1, 2, 3, 4, 5], (3, 5): [1, 2, 3, 4, 5], (4, 1): [1, 2, 3, 4, 5], (4, 2): [1, 2, 3, 4, 5], (4, 3): [1, 2, 3, 4, 5], (4, 4): [1, 2, 3, 4, 5], (4, 5): [1, 2, 3, 4, 5], (5, 1): [1, 2, 3, 4, 5], (5, 2): [1, 2, 3, 4, 5], (5, 3): [1, 2, 3, 4, 5], (5, 4): [1, 2, 3, 4, 5], (5, 5): [1, 2, 3, 4, 5]} \n",
      "\n",
      "Vizinhos =  {(1, 1): [(1, 2), (1, 3), (1, 4), (1, 5), (2, 1), (3, 1), (4, 1), (5, 1)], (1, 2): [(1, 1), (1, 3), (1, 4), (1, 5), (2, 2), (3, 2), (4, 2), (5, 2)], (1, 3): [(1, 1), (1, 2), (1, 4), (1, 5), (2, 3), (3, 3), (4, 3), (5, 3)], (1, 4): [(1, 1), (1, 2), (1, 3), (1, 5), (2, 4), (3, 4), (4, 4), (5, 4)], (1, 5): [(1, 1), (1, 2), (1, 3), (1, 4), (2, 5), (3, 5), (4, 5), (5, 5)], (2, 1): [(1, 1), (2, 2), (2, 3), (2, 4), (2, 5), (3, 1), (4, 1), (5, 1)], (3, 1): [(1, 1), (2, 1), (3, 2), (3, 3), (3, 4), (3, 5), (4, 1), (5, 1)], (4, 1): [(1, 1), (2, 1), (3, 1), (4, 2), (4, 3), (4, 4), (4, 5), (5, 1)], (5, 1): [(1, 1), (2, 1), (3, 1), (4, 1), (5, 2), (5, 3), (5, 4), (5, 5)], (2, 2): [(1, 2), (2, 1), (2, 3), (2, 4), (2, 5), (3, 2), (4, 2), (5, 2)], (3, 2): [(1, 2), (2, 2), (3, 1), (3, 3), (3, 4), (3, 5), (4, 2), (5, 2)], (4, 2): [(1, 2), (2, 2), (3, 2), (4, 1), (4, 3), (4, 4), (4, 5), (5, 2)], (5, 2): [(1, 2), (2, 2), (3, 2), (4, 2), (5, 1), (5, 3), (5, 4), (5, 5)], (2, 3): [(1, 3), (2, 1), (2, 2), (2, 4), (2, 5), (3, 3), (4, 3), (5, 3)], (3, 3): [(1, 3), (2, 3), (3, 1), (3, 2), (3, 4), (3, 5), (4, 3), (5, 3)], (4, 3): [(1, 3), (2, 3), (3, 3), (4, 1), (4, 2), (4, 4), (4, 5), (5, 3)], (5, 3): [(1, 3), (2, 3), (3, 3), (4, 3), (5, 1), (5, 2), (5, 4), (5, 5)], (2, 4): [(1, 4), (2, 1), (2, 2), (2, 3), (2, 5), (3, 4), (4, 4), (5, 4)], (3, 4): [(1, 4), (2, 4), (3, 1), (3, 2), (3, 3), (3, 5), (4, 4), (5, 4)], (4, 4): [(1, 4), (2, 4), (3, 4), (4, 1), (4, 2), (4, 3), (4, 5), (5, 4)], (5, 4): [(1, 4), (2, 4), (3, 4), (4, 4), (5, 1), (5, 2), (5, 3), (5, 5)], (2, 5): [(1, 5), (2, 1), (2, 2), (2, 3), (2, 4), (3, 5), (4, 5), (5, 5)], (3, 5): [(1, 5), (2, 5), (3, 1), (3, 2), (3, 3), (3, 4), (4, 5), (5, 5)], (4, 5): [(1, 5), (2, 5), (3, 5), (4, 1), (4, 2), (4, 3), (4, 4), (5, 5)], (5, 5): [(1, 5), (2, 5), (3, 5), (4, 5), (5, 1), (5, 2), (5, 3), (5, 4)]} \n",
      "\n"
     ]
    }
   ],
   "source": [
    "f1 = futoshiki()\n",
    "print(\"Variáveis = \", f1.variables,'\\n')\n",
    "print(\"Domínios = \", f1.domains,'\\n')\n",
    "print(\"Vizinhos = \", f1.neighbors,'\\n')"
   ]
  },
  {
   "cell_type": "code",
   "execution_count": 297,
   "metadata": {},
   "outputs": [
    {
     "name": "stdout",
     "output_type": "stream",
     "text": [
      "Variáveis =  [(1, 1), (1, 2), (1, 3), (1, 4), (1, 5), (1, 6), (2, 1), (2, 2), (2, 3), (2, 4), (2, 5), (2, 6), (3, 1), (3, 2), (3, 3), (3, 4), (3, 5), (3, 6), (4, 1), (4, 2), (4, 3), (4, 4), (4, 5), (4, 6), (5, 1), (5, 2), (5, 3), (5, 4), (5, 5), (5, 6), (6, 1), (6, 2), (6, 3), (6, 4), (6, 5), (6, 6)] \n",
      "\n",
      "Domínios =  {(1, 1): [1, 2, 3, 4, 5, 6], (1, 2): [1, 2, 3, 4, 5, 6], (1, 3): [1, 2, 3, 4, 5, 6], (1, 4): [1, 2, 3, 4, 5, 6], (1, 5): [1, 2, 3, 4, 5, 6], (1, 6): [1, 2, 3, 4, 5, 6], (2, 1): [1, 2, 3, 4, 5, 6], (2, 2): [1, 2, 3, 4, 5, 6], (2, 3): [1, 2, 3, 4, 5, 6], (2, 4): [1, 2, 3, 4, 5, 6], (2, 5): [1, 2, 3, 4, 5, 6], (2, 6): [1, 2, 3, 4, 5, 6], (3, 1): [1, 2, 3, 4, 5, 6], (3, 2): [1, 2, 3, 4, 5, 6], (3, 3): [1, 2, 3, 4, 5, 6], (3, 4): [1, 2, 3, 4, 5, 6], (3, 5): [1, 2, 3, 4, 5, 6], (3, 6): [1, 2, 3, 4, 5, 6], (4, 1): [1, 2, 3, 4, 5, 6], (4, 2): [1, 2, 3, 4, 5, 6], (4, 3): [1, 2, 3, 4, 5, 6], (4, 4): [1, 2, 3, 4, 5, 6], (4, 5): [1, 2, 3, 4, 5, 6], (4, 6): [1, 2, 3, 4, 5, 6], (5, 1): [1, 2, 3, 4, 5, 6], (5, 2): [1, 2, 3, 4, 5, 6], (5, 3): [1, 2, 3, 4, 5, 6], (5, 4): [1, 2, 3, 4, 5, 6], (5, 5): [1, 2, 3, 4, 5, 6], (5, 6): [1, 2, 3, 4, 5, 6], (6, 1): [1, 2, 3, 4, 5, 6], (6, 2): [1, 2, 3, 4, 5, 6], (6, 3): [1, 2, 3, 4, 5, 6], (6, 4): [1, 2, 3, 4, 5, 6], (6, 5): [1, 2, 3, 4, 5, 6], (6, 6): [1, 2, 3, 4, 5, 6]} \n",
      "\n",
      "Vizinhos =  {(1, 1): [(1, 2), (1, 3), (1, 4), (1, 5), (1, 6), (2, 1), (3, 1), (4, 1), (5, 1), (6, 1)], (1, 2): [(1, 1), (1, 3), (1, 4), (1, 5), (1, 6), (2, 2), (3, 2), (4, 2), (5, 2), (6, 2)], (1, 3): [(1, 1), (1, 2), (1, 4), (1, 5), (1, 6), (2, 3), (3, 3), (4, 3), (5, 3), (6, 3)], (1, 4): [(1, 1), (1, 2), (1, 3), (1, 5), (1, 6), (2, 4), (3, 4), (4, 4), (5, 4), (6, 4)], (1, 5): [(1, 1), (1, 2), (1, 3), (1, 4), (1, 6), (2, 5), (3, 5), (4, 5), (5, 5), (6, 5)], (1, 6): [(1, 1), (1, 2), (1, 3), (1, 4), (1, 5), (2, 6), (3, 6), (4, 6), (5, 6), (6, 6)], (2, 1): [(1, 1), (2, 2), (2, 3), (2, 4), (2, 5), (2, 6), (3, 1), (4, 1), (5, 1), (6, 1)], (3, 1): [(1, 1), (2, 1), (3, 2), (3, 3), (3, 4), (3, 5), (3, 6), (4, 1), (5, 1), (6, 1)], (4, 1): [(1, 1), (2, 1), (3, 1), (4, 2), (4, 3), (4, 4), (4, 5), (4, 6), (5, 1), (6, 1)], (5, 1): [(1, 1), (2, 1), (3, 1), (4, 1), (5, 2), (5, 3), (5, 4), (5, 5), (5, 6), (6, 1)], (6, 1): [(1, 1), (2, 1), (3, 1), (4, 1), (5, 1), (6, 2), (6, 3), (6, 4), (6, 5), (6, 6)], (2, 2): [(1, 2), (2, 1), (2, 3), (2, 4), (2, 5), (2, 6), (3, 2), (4, 2), (5, 2), (6, 2)], (3, 2): [(1, 2), (2, 2), (3, 1), (3, 3), (3, 4), (3, 5), (3, 6), (4, 2), (5, 2), (6, 2)], (4, 2): [(1, 2), (2, 2), (3, 2), (4, 1), (4, 3), (4, 4), (4, 5), (4, 6), (5, 2), (6, 2)], (5, 2): [(1, 2), (2, 2), (3, 2), (4, 2), (5, 1), (5, 3), (5, 4), (5, 5), (5, 6), (6, 2)], (6, 2): [(1, 2), (2, 2), (3, 2), (4, 2), (5, 2), (6, 1), (6, 3), (6, 4), (6, 5), (6, 6)], (2, 3): [(1, 3), (2, 1), (2, 2), (2, 4), (2, 5), (2, 6), (3, 3), (4, 3), (5, 3), (6, 3)], (3, 3): [(1, 3), (2, 3), (3, 1), (3, 2), (3, 4), (3, 5), (3, 6), (4, 3), (5, 3), (6, 3)], (4, 3): [(1, 3), (2, 3), (3, 3), (4, 1), (4, 2), (4, 4), (4, 5), (4, 6), (5, 3), (6, 3)], (5, 3): [(1, 3), (2, 3), (3, 3), (4, 3), (5, 1), (5, 2), (5, 4), (5, 5), (5, 6), (6, 3)], (6, 3): [(1, 3), (2, 3), (3, 3), (4, 3), (5, 3), (6, 1), (6, 2), (6, 4), (6, 5), (6, 6)], (2, 4): [(1, 4), (2, 1), (2, 2), (2, 3), (2, 5), (2, 6), (3, 4), (4, 4), (5, 4), (6, 4)], (3, 4): [(1, 4), (2, 4), (3, 1), (3, 2), (3, 3), (3, 5), (3, 6), (4, 4), (5, 4), (6, 4)], (4, 4): [(1, 4), (2, 4), (3, 4), (4, 1), (4, 2), (4, 3), (4, 5), (4, 6), (5, 4), (6, 4)], (5, 4): [(1, 4), (2, 4), (3, 4), (4, 4), (5, 1), (5, 2), (5, 3), (5, 5), (5, 6), (6, 4)], (6, 4): [(1, 4), (2, 4), (3, 4), (4, 4), (5, 4), (6, 1), (6, 2), (6, 3), (6, 5), (6, 6)], (2, 5): [(1, 5), (2, 1), (2, 2), (2, 3), (2, 4), (2, 6), (3, 5), (4, 5), (5, 5), (6, 5)], (3, 5): [(1, 5), (2, 5), (3, 1), (3, 2), (3, 3), (3, 4), (3, 6), (4, 5), (5, 5), (6, 5)], (4, 5): [(1, 5), (2, 5), (3, 5), (4, 1), (4, 2), (4, 3), (4, 4), (4, 6), (5, 5), (6, 5)], (5, 5): [(1, 5), (2, 5), (3, 5), (4, 5), (5, 1), (5, 2), (5, 3), (5, 4), (5, 6), (6, 5)], (6, 5): [(1, 5), (2, 5), (3, 5), (4, 5), (5, 5), (6, 1), (6, 2), (6, 3), (6, 4), (6, 6)], (2, 6): [(1, 6), (2, 1), (2, 2), (2, 3), (2, 4), (2, 5), (3, 6), (4, 6), (5, 6), (6, 6)], (3, 6): [(1, 6), (2, 6), (3, 1), (3, 2), (3, 3), (3, 4), (3, 5), (4, 6), (5, 6), (6, 6)], (4, 6): [(1, 6), (2, 6), (3, 6), (4, 1), (4, 2), (4, 3), (4, 4), (4, 5), (5, 6), (6, 6)], (5, 6): [(1, 6), (2, 6), (3, 6), (4, 6), (5, 1), (5, 2), (5, 3), (5, 4), (5, 5), (6, 6)], (6, 6): [(1, 6), (2, 6), (3, 6), (4, 6), (5, 6), (6, 1), (6, 2), (6, 3), (6, 4), (6, 5)]} \n",
      "\n"
     ]
    }
   ],
   "source": [
    "f2 = futoshiki(6)\n",
    "print(\"Variáveis = \", f2.variables,'\\n')\n",
    "print(\"Domínios = \", f2.domains,'\\n')\n",
    "print(\"Vizinhos = \", f2.neighbors,'\\n')"
   ]
  },
  {
   "cell_type": "markdown",
   "metadata": {},
   "source": [
    "Resolva o problema com o backtracking sem inferencia, com inferencia, e com uma heurística. Até que dimensão consegue resolver o problema em menos de 1 minuto?"
   ]
  },
  {
   "cell_type": "markdown",
   "metadata": {},
   "source": [
    "### Backtracking sem Inferencia"
   ]
  },
  {
   "cell_type": "code",
   "execution_count": 298,
   "metadata": {},
   "outputs": [
    {
     "name": "stdout",
     "output_type": "stream",
     "text": [
      "Assignment p =  {(1, 1): 4, (1, 2): 3, (1, 3): 1, (1, 4): 5, (1, 5): 2, (2, 1): 2, (2, 2): 4, (2, 3): 3, (2, 4): 1, (2, 5): 5, (3, 1): 1, (3, 2): 2, (3, 3): 5, (3, 4): 3, (3, 5): 4, (4, 1): 5, (4, 2): 1, (4, 3): 4, (4, 4): 2, (4, 5): 3, (5, 1): 3, (5, 2): 5, (5, 3): 2, (5, 4): 4, (5, 5): 1} \n",
      "\n",
      "----------------------------------------------------------------------------------------------------\n",
      "Domínios após AC3 =  {(1, 1): [3, 4, 5], (1, 2): [2, 3, 4], (1, 3): [1, 2, 3], (1, 4): [1, 2, 3, 4, 5], (1, 5): [1, 2, 3, 4, 5], (2, 1): [1, 2, 3, 4, 5], (2, 2): [3, 4, 5], (2, 3): [1, 2, 3, 4, 5], (2, 4): [1, 2, 3, 4, 5], (2, 5): [4, 5], (3, 1): [1, 2, 3], (3, 2): [2, 3, 4], (3, 3): [1, 2, 3, 4, 5], (3, 4): [2, 3], (3, 5): [3, 4], (4, 1): [1, 2, 3, 4, 5], (4, 2): [1, 2, 3, 4, 5], (4, 3): [1, 2, 3, 4, 5], (4, 4): [1, 2], (4, 5): [1, 2, 3, 4, 5], (5, 1): [1, 2, 3, 4, 5], (5, 2): [2, 3, 4, 5], (5, 3): [1, 2, 3, 4], (5, 4): [1, 2, 3, 4, 5], (5, 5): [1, 2, 3, 4, 5]} \n",
      "\n",
      "Assignment =  {(1, 1): 4, (1, 2): 3, (1, 3): 1, (1, 4): 5, (1, 5): 2, (2, 1): 2, (2, 2): 4, (2, 3): 3, (2, 4): 1, (2, 5): 5, (3, 1): 1, (3, 2): 2, (3, 3): 5, (3, 4): 3, (3, 5): 4, (4, 1): 5, (4, 2): 1, (4, 3): 4, (4, 4): 2, (4, 5): 3, (5, 1): 3, (5, 2): 5, (5, 3): 2, (5, 4): 4, (5, 5): 1}\n"
     ]
    }
   ],
   "source": [
    "f3 = futoshiki()\n",
    "s3 = backtracking_search(f3)\n",
    "print('Assignment p = ',s3,'\\n') \n",
    "print('-'*100)\n",
    "\n",
    "f31 = futoshiki()\n",
    "f31_ac3 = AC3(f31)\n",
    "print(\"Domínios após AC3 = \", f31_ac3.curr_domains,'\\n')\n",
    "s31 = backtracking_search(f31_ac3)\n",
    "print('Assignment = ',s31) "
   ]
  },
  {
   "cell_type": "markdown",
   "metadata": {},
   "source": [
    "   - Dimensão Máxima para o problema ser resolvido em menos de 1 minuto: 10x10"
   ]
  },
  {
   "cell_type": "code",
   "execution_count": 299,
   "metadata": {},
   "outputs": [
    {
     "name": "stdout",
     "output_type": "stream",
     "text": [
      "Demorou 30.35 segundos\n",
      "Assignment p =  {(1, 1): 3, (1, 2): 2, (1, 3): 1, (1, 4): 4, (1, 5): 5, (1, 6): 6, (1, 7): 7, (1, 8): 8, (1, 9): 9, (1, 10): 10, (2, 1): 1, (2, 2): 4, (2, 3): 10, (2, 4): 9, (2, 5): 7, (2, 6): 2, (2, 7): 8, (2, 8): 5, (2, 9): 6, (2, 10): 3, (3, 1): 2, (3, 2): 3, (3, 3): 4, (3, 4): 5, (3, 5): 6, (3, 6): 10, (3, 7): 9, (3, 8): 7, (3, 9): 8, (3, 10): 1, (4, 1): 10, (4, 2): 9, (4, 3): 7, (4, 4): 1, (4, 5): 2, (4, 6): 3, (4, 7): 4, (4, 8): 6, (4, 9): 5, (4, 10): 8, (5, 1): 4, (5, 2): 5, (5, 3): 2, (5, 4): 3, (5, 5): 1, (5, 6): 8, (5, 7): 10, (5, 8): 9, (5, 9): 7, (5, 10): 6, (6, 1): 5, (6, 2): 1, (6, 3): 3, (6, 4): 2, (6, 5): 8, (6, 6): 9, (6, 7): 6, (6, 8): 10, (6, 9): 4, (6, 10): 7, (7, 1): 6, (7, 2): 7, (7, 3): 5, (7, 4): 8, (7, 5): 3, (7, 6): 1, (7, 7): 2, (7, 8): 4, (7, 9): 10, (7, 10): 9, (8, 1): 7, (8, 2): 6, (8, 3): 8, (8, 4): 10, (8, 5): 9, (8, 6): 5, (8, 7): 3, (8, 8): 1, (8, 9): 2, (8, 10): 4, (9, 1): 8, (9, 2): 10, (9, 3): 9, (9, 4): 6, (9, 5): 4, (9, 6): 7, (9, 7): 1, (9, 8): 2, (9, 9): 3, (9, 10): 5, (10, 1): 9, (10, 2): 8, (10, 3): 6, (10, 4): 7, (10, 5): 10, (10, 6): 4, (10, 7): 5, (10, 8): 3, (10, 9): 1, (10, 10): 2}\n"
     ]
    }
   ],
   "source": [
    "f33 = futoshiki(10)\n",
    "inicio = time.time()\n",
    "s33 = backtracking_search(f33)\n",
    "duracao = time.time() - inicio\n",
    "print(f'Demorou {duracao:.2f} segundos')\n",
    "print('Assignment p = ',s33) "
   ]
  },
  {
   "cell_type": "markdown",
   "metadata": {},
   "source": [
    "### Backtracking com Inferencia\n",
    "Forward Checking"
   ]
  },
  {
   "cell_type": "code",
   "execution_count": 300,
   "metadata": {},
   "outputs": [
    {
     "name": "stdout",
     "output_type": "stream",
     "text": [
      "Assignment p =  {(1, 1): 4, (1, 2): 3, (1, 3): 1, (1, 4): 5, (1, 5): 2, (2, 1): 2, (2, 2): 4, (2, 3): 3, (2, 4): 1, (2, 5): 5, (3, 1): 1, (3, 2): 2, (3, 3): 5, (3, 4): 3, (3, 5): 4, (4, 1): 5, (4, 2): 1, (4, 3): 4, (4, 4): 2, (4, 5): 3, (5, 1): 3, (5, 2): 5, (5, 3): 2, (5, 4): 4, (5, 5): 1}\n"
     ]
    }
   ],
   "source": [
    "f4 = futoshiki()\n",
    "s4 = backtracking_search(f4,inference = forward_checking)\n",
    "print('Assignment p = ',s4) "
   ]
  },
  {
   "cell_type": "markdown",
   "metadata": {},
   "source": [
    "   - Dimensão Máxima para o problema ser resolvido em menos de 1 minuto: 10x10"
   ]
  },
  {
   "cell_type": "code",
   "execution_count": 301,
   "metadata": {},
   "outputs": [
    {
     "name": "stdout",
     "output_type": "stream",
     "text": [
      "Demorou 10.87 segundos\n",
      "Assignment p =  {(1, 1): 3, (1, 2): 2, (1, 3): 1, (1, 4): 4, (1, 5): 5, (1, 6): 6, (1, 7): 7, (1, 8): 8, (1, 9): 9, (1, 10): 10, (2, 1): 1, (2, 2): 4, (2, 3): 10, (2, 4): 9, (2, 5): 7, (2, 6): 2, (2, 7): 8, (2, 8): 5, (2, 9): 6, (2, 10): 3, (3, 1): 2, (3, 2): 3, (3, 3): 4, (3, 4): 5, (3, 5): 6, (3, 6): 10, (3, 7): 9, (3, 8): 7, (3, 9): 8, (3, 10): 1, (4, 1): 4, (4, 2): 1, (4, 3): 3, (4, 4): 2, (4, 5): 10, (4, 6): 9, (4, 7): 5, (4, 8): 6, (4, 9): 7, (4, 10): 8, (5, 1): 5, (5, 2): 6, (5, 3): 2, (5, 4): 1, (5, 5): 3, (5, 6): 8, (5, 7): 4, (5, 8): 9, (5, 9): 10, (5, 10): 7, (6, 1): 6, (6, 2): 5, (6, 3): 7, (6, 4): 3, (6, 5): 8, (6, 6): 1, (6, 7): 2, (6, 8): 10, (6, 9): 4, (6, 10): 9, (7, 1): 7, (7, 2): 8, (7, 3): 5, (7, 4): 10, (7, 5): 9, (7, 6): 3, (7, 7): 6, (7, 8): 4, (7, 9): 1, (7, 10): 2, (8, 1): 8, (8, 2): 7, (8, 3): 9, (8, 4): 6, (8, 5): 2, (8, 6): 5, (8, 7): 10, (8, 8): 1, (8, 9): 3, (8, 10): 4, (9, 1): 9, (9, 2): 10, (9, 3): 6, (9, 4): 8, (9, 5): 4, (9, 6): 7, (9, 7): 1, (9, 8): 3, (9, 9): 2, (9, 10): 5, (10, 1): 10, (10, 2): 9, (10, 3): 8, (10, 4): 7, (10, 5): 1, (10, 6): 4, (10, 7): 3, (10, 8): 2, (10, 9): 5, (10, 10): 6}\n"
     ]
    }
   ],
   "source": [
    "f41 = futoshiki(10)\n",
    "inicio = time.time()\n",
    "s41 = backtracking_search(f41,inference = forward_checking)\n",
    "duracao = time.time() - inicio\n",
    "print(f'Demorou {duracao:.2f} segundos')\n",
    "print('Assignment p = ',s41) "
   ]
  },
  {
   "cell_type": "markdown",
   "metadata": {},
   "source": [
    "MAC"
   ]
  },
  {
   "cell_type": "code",
   "execution_count": 302,
   "metadata": {},
   "outputs": [
    {
     "name": "stdout",
     "output_type": "stream",
     "text": [
      "Assignment p =  {(1, 1): 4, (1, 2): 3, (1, 3): 1, (1, 4): 5, (1, 5): 2, (2, 1): 2, (2, 2): 4, (2, 3): 3, (2, 4): 1, (2, 5): 5, (3, 1): 1, (3, 2): 2, (3, 3): 5, (3, 4): 3, (3, 5): 4, (4, 1): 5, (4, 2): 1, (4, 3): 4, (4, 4): 2, (4, 5): 3, (5, 1): 3, (5, 2): 5, (5, 3): 2, (5, 4): 4, (5, 5): 1}\n"
     ]
    }
   ],
   "source": [
    "f5 = futoshiki()\n",
    "s5 = backtracking_search(f5,inference = mac)\n",
    "print('Assignment p = ',s5) "
   ]
  },
  {
   "cell_type": "markdown",
   "metadata": {},
   "source": [
    "   - Dimensão Máxima para o problema ser resolvido em menos de 1 minuto: 10x10"
   ]
  },
  {
   "cell_type": "code",
   "execution_count": 303,
   "metadata": {},
   "outputs": [
    {
     "name": "stdout",
     "output_type": "stream",
     "text": [
      "Demorou 11.17 segundos\n",
      "Assignment p =  {(1, 1): 3, (1, 2): 2, (1, 3): 1, (1, 4): 4, (1, 5): 5, (1, 6): 6, (1, 7): 7, (1, 8): 8, (1, 9): 9, (1, 10): 10, (2, 1): 1, (2, 2): 4, (2, 3): 10, (2, 4): 9, (2, 5): 7, (2, 6): 2, (2, 7): 8, (2, 8): 5, (2, 9): 6, (2, 10): 3, (3, 1): 2, (3, 2): 3, (3, 3): 4, (3, 4): 5, (3, 5): 6, (3, 6): 10, (3, 7): 9, (3, 8): 7, (3, 9): 8, (3, 10): 1, (4, 1): 4, (4, 2): 1, (4, 3): 3, (4, 4): 2, (4, 5): 10, (4, 6): 9, (4, 7): 5, (4, 8): 6, (4, 9): 7, (4, 10): 8, (5, 1): 5, (5, 2): 6, (5, 3): 2, (5, 4): 1, (5, 5): 3, (5, 6): 8, (5, 7): 4, (5, 8): 9, (5, 9): 10, (5, 10): 7, (6, 1): 6, (6, 2): 5, (6, 3): 7, (6, 4): 3, (6, 5): 8, (6, 6): 1, (6, 7): 2, (6, 8): 10, (6, 9): 4, (6, 10): 9, (7, 1): 7, (7, 2): 8, (7, 3): 5, (7, 4): 10, (7, 5): 9, (7, 6): 3, (7, 7): 6, (7, 8): 4, (7, 9): 1, (7, 10): 2, (8, 1): 8, (8, 2): 7, (8, 3): 9, (8, 4): 6, (8, 5): 2, (8, 6): 5, (8, 7): 10, (8, 8): 1, (8, 9): 3, (8, 10): 4, (9, 1): 9, (9, 2): 10, (9, 3): 6, (9, 4): 8, (9, 5): 4, (9, 6): 7, (9, 7): 1, (9, 8): 3, (9, 9): 2, (9, 10): 5, (10, 1): 10, (10, 2): 9, (10, 3): 8, (10, 4): 7, (10, 5): 1, (10, 6): 4, (10, 7): 3, (10, 8): 2, (10, 9): 5, (10, 10): 6}\n"
     ]
    }
   ],
   "source": [
    "f51 = futoshiki(10)\n",
    "inicio = time.time()\n",
    "s51 = backtracking_search(f51,inference = forward_checking)\n",
    "duracao = time.time() - inicio\n",
    "print(f'Demorou {duracao:.2f} segundos')\n",
    "print('Assignment p = ',s51) "
   ]
  },
  {
   "cell_type": "markdown",
   "metadata": {},
   "source": [
    "### Backtracking com Heurística MRV"
   ]
  },
  {
   "cell_type": "code",
   "execution_count": 304,
   "metadata": {},
   "outputs": [
    {
     "name": "stdout",
     "output_type": "stream",
     "text": [
      "Assignment p =  {(1, 2): 3, (4, 3): 4, (5, 1): 3, (5, 4): 4, (5, 5): 1, (1, 1): 4, (3, 1): 1, (3, 5): 4, (2, 4): 1, (2, 2): 4, (1, 4): 5, (2, 3): 3, (1, 5): 2, (2, 1): 2, (4, 2): 1, (3, 4): 3, (3, 3): 5, (2, 5): 5, (4, 4): 2, (4, 1): 5, (4, 5): 3, (5, 3): 2, (5, 2): 5, (1, 3): 1, (3, 2): 2}\n"
     ]
    }
   ],
   "source": [
    "f6 = futoshiki()\n",
    "s6 = backtracking_search(f6,select_unassigned_variable = mrv)\n",
    "print('Assignment p = ',s6)  "
   ]
  },
  {
   "cell_type": "markdown",
   "metadata": {},
   "source": [
    "   - Dimensão Máxima para o problema ser resolvido em menos de 1 minuto: 10x10"
   ]
  },
  {
   "cell_type": "code",
   "execution_count": 305,
   "metadata": {},
   "outputs": [
    {
     "name": "stdout",
     "output_type": "stream",
     "text": [
      "Demorou 11.09 segundos\n",
      "Assignment p =  {(1, 1): 3, (1, 2): 2, (1, 3): 1, (1, 4): 4, (1, 5): 5, (1, 6): 6, (1, 7): 7, (1, 8): 8, (1, 9): 9, (1, 10): 10, (2, 1): 1, (2, 2): 4, (2, 3): 10, (2, 4): 9, (2, 5): 7, (2, 6): 2, (2, 7): 8, (2, 8): 5, (2, 9): 6, (2, 10): 3, (3, 1): 2, (3, 2): 3, (3, 3): 4, (3, 4): 5, (3, 5): 6, (3, 6): 10, (3, 7): 9, (3, 8): 7, (3, 9): 8, (3, 10): 1, (4, 1): 4, (4, 2): 1, (4, 3): 3, (4, 4): 2, (4, 5): 10, (4, 6): 9, (4, 7): 5, (4, 8): 6, (4, 9): 7, (4, 10): 8, (5, 1): 5, (5, 2): 6, (5, 3): 2, (5, 4): 1, (5, 5): 3, (5, 6): 8, (5, 7): 4, (5, 8): 9, (5, 9): 10, (5, 10): 7, (6, 1): 6, (6, 2): 5, (6, 3): 7, (6, 4): 3, (6, 5): 8, (6, 6): 1, (6, 7): 2, (6, 8): 10, (6, 9): 4, (6, 10): 9, (7, 1): 7, (7, 2): 8, (7, 3): 5, (7, 4): 10, (7, 5): 9, (7, 6): 3, (7, 7): 6, (7, 8): 4, (7, 9): 1, (7, 10): 2, (8, 1): 8, (8, 2): 7, (8, 3): 9, (8, 4): 6, (8, 5): 2, (8, 6): 5, (8, 7): 10, (8, 8): 1, (8, 9): 3, (8, 10): 4, (9, 1): 9, (9, 2): 10, (9, 3): 6, (9, 4): 8, (9, 5): 4, (9, 6): 7, (9, 7): 1, (9, 8): 3, (9, 9): 2, (9, 10): 5, (10, 1): 10, (10, 2): 9, (10, 3): 8, (10, 4): 7, (10, 5): 1, (10, 6): 4, (10, 7): 3, (10, 8): 2, (10, 9): 5, (10, 10): 6}\n"
     ]
    }
   ],
   "source": [
    "f61 = futoshiki(10)\n",
    "inicio = time.time()\n",
    "s61 = backtracking_search(f61,inference = forward_checking)\n",
    "duracao = time.time() - inicio\n",
    "print(f'Demorou {duracao:.2f} segundos')\n",
    "print('Assignment p = ',s61)"
   ]
  },
  {
   "cell_type": "markdown",
   "metadata": {},
   "source": [
    "### Backtracking com Inferência e Heurística MRV\n",
    "Forward Checking"
   ]
  },
  {
   "cell_type": "code",
   "execution_count": 306,
   "metadata": {},
   "outputs": [
    {
     "name": "stdout",
     "output_type": "stream",
     "text": [
      "Assignment p =  {(2, 1): 2, (2, 4): 1, (2, 2): 4, (2, 3): 3, (2, 5): 5, (3, 2): 2, (3, 1): 1, (3, 5): 4, (3, 4): 3, (4, 4): 2, (3, 3): 5, (5, 4): 4, (1, 4): 5, (5, 1): 3, (1, 1): 4, (4, 1): 5, (5, 2): 5, (4, 2): 1, (4, 3): 4, (4, 5): 3, (1, 2): 3, (5, 5): 1, (1, 5): 2, (1, 3): 1, (5, 3): 2}\n",
      "----------------------------------------------------------------------------------------------------\n",
      "Domínios após AC3 =  {(1, 1): [3, 4, 5], (1, 2): [2, 3, 4], (1, 3): [1, 2, 3], (1, 4): [1, 2, 3, 4, 5], (1, 5): [1, 2, 3, 4, 5], (2, 1): [1, 2, 3, 4, 5], (2, 2): [3, 4, 5], (2, 3): [1, 2, 3, 4, 5], (2, 4): [1, 2, 3, 4, 5], (2, 5): [4, 5], (3, 1): [1, 2, 3], (3, 2): [2, 3, 4], (3, 3): [1, 2, 3, 4, 5], (3, 4): [2, 3], (3, 5): [3, 4], (4, 1): [1, 2, 3, 4, 5], (4, 2): [1, 2, 3, 4, 5], (4, 3): [1, 2, 3, 4, 5], (4, 4): [1, 2], (4, 5): [1, 2, 3, 4, 5], (5, 1): [1, 2, 3, 4, 5], (5, 2): [2, 3, 4, 5], (5, 3): [1, 2, 3, 4], (5, 4): [1, 2, 3, 4, 5], (5, 5): [1, 2, 3, 4, 5]} \n",
      "\n",
      "Assignment =  {(4, 4): 2, (3, 4): 3, (3, 5): 4, (3, 2): 2, (2, 5): 5, (3, 1): 1, (3, 3): 5, (4, 5): 3, (4, 3): 4, (4, 1): 5, (4, 2): 1, (1, 1): 4, (1, 2): 3, (2, 2): 4, (2, 4): 1, (5, 2): 5, (1, 4): 5, (5, 4): 4, (2, 3): 2, (2, 1): 3, (1, 3): 1, (5, 3): 3, (5, 1): 2, (1, 5): 2, (5, 5): 1}\n"
     ]
    }
   ],
   "source": [
    "f7 = futoshiki()\n",
    "s7 = backtracking_search(f7,select_unassigned_variable = mrv,inference = forward_checking)\n",
    "print('Assignment p = ',s7) \n",
    "print('-'*100)\n",
    "\n",
    "f71 = futoshiki()\n",
    "f71_ac3 = AC3(f71)\n",
    "print(\"Domínios após AC3 = \", f71_ac3.curr_domains,'\\n')\n",
    "s71 = backtracking_search(f71_ac3,select_unassigned_variable = mrv,inference = forward_checking)\n",
    "print('Assignment = ',s71) "
   ]
  },
  {
   "cell_type": "markdown",
   "metadata": {},
   "source": [
    "   - Dimensão Máxima para o problema ser resolvido em menos de 1 minuto: 10x10"
   ]
  },
  {
   "cell_type": "code",
   "execution_count": 307,
   "metadata": {},
   "outputs": [
    {
     "name": "stdout",
     "output_type": "stream",
     "text": [
      "Demorou 11.12 segundos\n",
      "Assignment p =  {(1, 1): 3, (1, 2): 2, (1, 3): 1, (1, 4): 4, (1, 5): 5, (1, 6): 6, (1, 7): 7, (1, 8): 8, (1, 9): 9, (1, 10): 10, (2, 1): 1, (2, 2): 4, (2, 3): 10, (2, 4): 9, (2, 5): 7, (2, 6): 2, (2, 7): 8, (2, 8): 5, (2, 9): 6, (2, 10): 3, (3, 1): 2, (3, 2): 3, (3, 3): 4, (3, 4): 5, (3, 5): 6, (3, 6): 10, (3, 7): 9, (3, 8): 7, (3, 9): 8, (3, 10): 1, (4, 1): 4, (4, 2): 1, (4, 3): 3, (4, 4): 2, (4, 5): 10, (4, 6): 9, (4, 7): 5, (4, 8): 6, (4, 9): 7, (4, 10): 8, (5, 1): 5, (5, 2): 6, (5, 3): 2, (5, 4): 1, (5, 5): 3, (5, 6): 8, (5, 7): 4, (5, 8): 9, (5, 9): 10, (5, 10): 7, (6, 1): 6, (6, 2): 5, (6, 3): 7, (6, 4): 3, (6, 5): 8, (6, 6): 1, (6, 7): 2, (6, 8): 10, (6, 9): 4, (6, 10): 9, (7, 1): 7, (7, 2): 8, (7, 3): 5, (7, 4): 10, (7, 5): 9, (7, 6): 3, (7, 7): 6, (7, 8): 4, (7, 9): 1, (7, 10): 2, (8, 1): 8, (8, 2): 7, (8, 3): 9, (8, 4): 6, (8, 5): 2, (8, 6): 5, (8, 7): 10, (8, 8): 1, (8, 9): 3, (8, 10): 4, (9, 1): 9, (9, 2): 10, (9, 3): 6, (9, 4): 8, (9, 5): 4, (9, 6): 7, (9, 7): 1, (9, 8): 3, (9, 9): 2, (9, 10): 5, (10, 1): 10, (10, 2): 9, (10, 3): 8, (10, 4): 7, (10, 5): 1, (10, 6): 4, (10, 7): 3, (10, 8): 2, (10, 9): 5, (10, 10): 6}\n"
     ]
    }
   ],
   "source": [
    "f73 = futoshiki(10)\n",
    "inicio = time.time()\n",
    "s73 = backtracking_search(f73,inference = forward_checking)\n",
    "duracao = time.time() - inicio\n",
    "print(f'Demorou {duracao:.2f} segundos')\n",
    "print('Assignment p = ',s73) "
   ]
  },
  {
   "cell_type": "markdown",
   "metadata": {},
   "source": [
    "MAC"
   ]
  },
  {
   "cell_type": "code",
   "execution_count": 308,
   "metadata": {},
   "outputs": [
    {
     "name": "stdout",
     "output_type": "stream",
     "text": [
      "Assignment p =  {(2, 1): 2, (4, 4): 2, (3, 2): 2, (2, 5): 5, (3, 4): 3, (3, 5): 4, (3, 1): 1, (3, 3): 5, (2, 2): 4, (1, 4): 5, (4, 5): 3, (5, 2): 5, (2, 4): 1, (4, 2): 1, (1, 2): 3, (4, 3): 4, (1, 1): 4, (5, 4): 4, (4, 1): 5, (5, 1): 3, (2, 3): 3, (5, 3): 1, (1, 5): 1, (5, 5): 2, (1, 3): 2}\n"
     ]
    }
   ],
   "source": [
    "f8 = futoshiki()\n",
    "s8 = backtracking_search(f8,select_unassigned_variable = mrv,inference = mac)\n",
    "print('Assignment p = ',s8) "
   ]
  },
  {
   "cell_type": "markdown",
   "metadata": {},
   "source": [
    "   - Dimensão Máxima para o problema ser resolvido em menos de 1 minuto: 10x10"
   ]
  },
  {
   "cell_type": "code",
   "execution_count": 309,
   "metadata": {},
   "outputs": [
    {
     "name": "stdout",
     "output_type": "stream",
     "text": [
      "Demorou 11.73 segundos\n",
      "Assignment p =  {(1, 1): 3, (1, 2): 2, (1, 3): 1, (1, 4): 4, (1, 5): 5, (1, 6): 6, (1, 7): 7, (1, 8): 8, (1, 9): 9, (1, 10): 10, (2, 1): 1, (2, 2): 4, (2, 3): 10, (2, 4): 9, (2, 5): 7, (2, 6): 2, (2, 7): 8, (2, 8): 5, (2, 9): 6, (2, 10): 3, (3, 1): 2, (3, 2): 3, (3, 3): 4, (3, 4): 5, (3, 5): 6, (3, 6): 10, (3, 7): 9, (3, 8): 7, (3, 9): 8, (3, 10): 1, (4, 1): 4, (4, 2): 1, (4, 3): 3, (4, 4): 2, (4, 5): 10, (4, 6): 9, (4, 7): 5, (4, 8): 6, (4, 9): 7, (4, 10): 8, (5, 1): 5, (5, 2): 6, (5, 3): 2, (5, 4): 1, (5, 5): 3, (5, 6): 8, (5, 7): 4, (5, 8): 9, (5, 9): 10, (5, 10): 7, (6, 1): 6, (6, 2): 5, (6, 3): 7, (6, 4): 3, (6, 5): 8, (6, 6): 1, (6, 7): 2, (6, 8): 10, (6, 9): 4, (6, 10): 9, (7, 1): 7, (7, 2): 8, (7, 3): 5, (7, 4): 10, (7, 5): 9, (7, 6): 3, (7, 7): 6, (7, 8): 4, (7, 9): 1, (7, 10): 2, (8, 1): 8, (8, 2): 7, (8, 3): 9, (8, 4): 6, (8, 5): 2, (8, 6): 5, (8, 7): 10, (8, 8): 1, (8, 9): 3, (8, 10): 4, (9, 1): 9, (9, 2): 10, (9, 3): 6, (9, 4): 8, (9, 5): 4, (9, 6): 7, (9, 7): 1, (9, 8): 3, (9, 9): 2, (9, 10): 5, (10, 1): 10, (10, 2): 9, (10, 3): 8, (10, 4): 7, (10, 5): 1, (10, 6): 4, (10, 7): 3, (10, 8): 2, (10, 9): 5, (10, 10): 6}\n"
     ]
    }
   ],
   "source": [
    "f81 = futoshiki(10)\n",
    "inicio = time.time()\n",
    "s81 = backtracking_search(f81,inference = forward_checking)\n",
    "duracao = time.time() - inicio\n",
    "print(f'Demorou {duracao:.2f} segundos')\n",
    "print('Assignment p = ',s81) "
   ]
  },
  {
   "cell_type": "markdown",
   "metadata": {},
   "source": [
    "## Visualização do problema"
   ]
  },
  {
   "cell_type": "code",
   "execution_count": 310,
   "metadata": {},
   "outputs": [],
   "source": [
    "def fts_vizualiza_aux(dominio,vizinhos,dim,espaco=6,espaco_dps='     '):\n",
    "    \"\"\"Funcao auxiliar para vizualização do puzzle Futoshiki\n",
    "       Representa o puzzle pedido com as restricoes predefinidas\n",
    "\n",
    "    Args:\n",
    "        dominio (dict): Dicionario com o dominio que se quer representar\n",
    "        vizinhos (dict): vizinhos de cada celula do puzzle Futoshiki\n",
    "        dim (float): dimensao do puzzle Futoshiki\n",
    "        espaco (int): variavel que representa o espaço entre cada celula para melhor vizualização do problema\n",
    "        espaco_dps (str): variavel que representa o espaço entre uma celula e a representacao da sua restricao para melhor vizualização do puzzle \n",
    "    \"\"\"\n",
    "    restricoes = {((1,1),(1,2)):'>',((1,2),(1,3)):'>',((2,2),(3,2)):'V',((2,5),(3,5)):'V',\n",
    "                 ((3,1),(3,2)):'<',((3,4),(3,5)):'<',((3,4),(4,4)):'V',((5,2),(5,3)):'>'}\n",
    "    num = 1\n",
    "    dif = ''\n",
    "    for x in dominio:\n",
    "        s = str(dominio[x]) + espaco_dps\n",
    "        for neighbor in vizinhos:\n",
    "            if (x,neighbor) in restricoes and x[0] == neighbor[0]:\n",
    "                s = s.replace('   ',f' {restricoes[(x,neighbor)]} ')\n",
    "            elif (x,neighbor) in restricoes and x[0] != neighbor[0]:\n",
    "                dif += ('  '*(x[1]*espaco)) + str(restricoes[(x,neighbor)])\n",
    "\n",
    "        print(s,end='')\n",
    "        num += 1\n",
    "        if num > dim:\n",
    "            print('\\n')\n",
    "            print(dif)\n",
    "            dif = ''\n",
    "            num =1 "
   ]
  },
  {
   "cell_type": "code",
   "execution_count": 311,
   "metadata": {},
   "outputs": [],
   "source": [
    "def visualiza_futoshiki(p):\n",
    "    \"\"\"Vizualizacao do puzzle Futoshiki antes e depois de resolvido (se tiver sido resolvido)\n",
    "\n",
    "    Args:\n",
    "        p (CSP): CSP do puzzle Futoshiki\n",
    "    \"\"\"\n",
    "    dim = sqrt(len(p.domains))\n",
    "    print('Antes de Resolver')\n",
    "    fts_vizualiza_aux(p.domains,p.neighbors,dim)\n",
    "    \n",
    "    print('-' * 40)\n",
    "\n",
    "    if p.curr_domains:\n",
    "        print('\\nDepois de Resolver')\n",
    "        fts_vizualiza_aux(p.curr_domains,p.neighbors,dim,2,'    ')\n"
   ]
  },
  {
   "cell_type": "code",
   "execution_count": 312,
   "metadata": {},
   "outputs": [
    {
     "name": "stdout",
     "output_type": "stream",
     "text": [
      "Antes de Resolver\n",
      "[1, 2, 3, 4, 5] >   [1, 2, 3, 4, 5] >   [1, 2, 3, 4, 5]     [1, 2, 3, 4, 5]     [1, 2, 3, 4, 5]     \n",
      "\n",
      "\n",
      "[1, 2, 3, 4, 5]     [1, 2, 3, 4, 5]     [1, 2, 3, 4, 5]     [1, 2, 3, 4, 5]     [1, 2, 3, 4, 5]     \n",
      "\n",
      "                        V                                                            V\n",
      "[1, 2, 3, 4, 5] <   [1, 2, 3, 4, 5]     [1, 2, 3, 4, 5]     [1, 2, 3, 4, 5] <   [1, 2, 3, 4, 5]     \n",
      "\n",
      "                                                V\n",
      "[1, 2, 3, 4, 5]     [1, 2, 3, 4, 5]     [1, 2, 3, 4, 5]     [1, 2, 3, 4, 5]     [1, 2, 3, 4, 5]     \n",
      "\n",
      "\n",
      "[1, 2, 3, 4, 5]     [1, 2, 3, 4, 5] >   [1, 2, 3, 4, 5]     [1, 2, 3, 4, 5]     [1, 2, 3, 4, 5]     \n",
      "\n",
      "\n",
      "----------------------------------------\n",
      "\n",
      "Depois de Resolver\n",
      "[4] >  [3] >  [1]    [5]    [2]    \n",
      "\n",
      "\n",
      "[2]    [4]    [3]    [1]    [5]    \n",
      "\n",
      "        V                    V\n",
      "[1] <  [2]    [5]    [3] <  [4]    \n",
      "\n",
      "                V\n",
      "[5]    [1]    [4]    [2]    [3]    \n",
      "\n",
      "\n",
      "[3]    [5] >  [2]    [4]    [1]    \n",
      "\n",
      "\n"
     ]
    }
   ],
   "source": [
    "visualiza_futoshiki(f3)        "
   ]
  },
  {
   "cell_type": "code",
   "execution_count": 313,
   "metadata": {},
   "outputs": [
    {
     "name": "stdout",
     "output_type": "stream",
     "text": [
      "Antes de Resolver\n",
      "[1, 2, 3, 4, 5] >   [1, 2, 3, 4, 5] >   [1, 2, 3, 4, 5]     [1, 2, 3, 4, 5]     [1, 2, 3, 4, 5]     \n",
      "\n",
      "\n",
      "[1, 2, 3, 4, 5]     [1, 2, 3, 4, 5]     [1, 2, 3, 4, 5]     [1, 2, 3, 4, 5]     [1, 2, 3, 4, 5]     \n",
      "\n",
      "                        V                                                            V\n",
      "[1, 2, 3, 4, 5] <   [1, 2, 3, 4, 5]     [1, 2, 3, 4, 5]     [1, 2, 3, 4, 5] <   [1, 2, 3, 4, 5]     \n",
      "\n",
      "                                                V\n",
      "[1, 2, 3, 4, 5]     [1, 2, 3, 4, 5]     [1, 2, 3, 4, 5]     [1, 2, 3, 4, 5]     [1, 2, 3, 4, 5]     \n",
      "\n",
      "\n",
      "[1, 2, 3, 4, 5]     [1, 2, 3, 4, 5] >   [1, 2, 3, 4, 5]     [1, 2, 3, 4, 5]     [1, 2, 3, 4, 5]     \n",
      "\n",
      "\n",
      "----------------------------------------\n",
      "\n",
      "Depois de Resolver\n",
      "[4] >  [3] >  [1]    [5]    [2]    \n",
      "\n",
      "\n",
      "[2]    [4]    [3]    [1]    [5]    \n",
      "\n",
      "        V                    V\n",
      "[1] <  [2]    [5]    [3] <  [4]    \n",
      "\n",
      "                V\n",
      "[5]    [1]    [4]    [2]    [3]    \n",
      "\n",
      "\n",
      "[3]    [5] >  [2]    [4]    [1]    \n",
      "\n",
      "\n"
     ]
    }
   ],
   "source": [
    "visualiza_futoshiki(f7)"
   ]
  },
  {
   "cell_type": "code",
   "execution_count": null,
   "metadata": {},
   "outputs": [],
   "source": []
  }
 ],
 "metadata": {
  "kernelspec": {
   "display_name": "Python 3 (ipykernel)",
   "language": "python",
   "name": "python3"
  },
  "language_info": {
   "codemirror_mode": {
    "name": "ipython",
    "version": 3
   },
   "file_extension": ".py",
   "mimetype": "text/x-python",
   "name": "python",
   "nbconvert_exporter": "python",
   "pygments_lexer": "ipython3",
   "version": "3.9.10"
  }
 },
 "nbformat": 4,
 "nbformat_minor": 2
}
